{
  "nbformat": 4,
  "nbformat_minor": 0,
  "metadata": {
    "colab": {
      "provenance": []
    },
    "kernelspec": {
      "name": "python3",
      "display_name": "Python 3"
    },
    "language_info": {
      "name": "python"
    }
  },
  "cells": [
    {
      "cell_type": "code",
      "execution_count": 5,
      "metadata": {
        "colab": {
          "base_uri": "https://localhost:8080/"
        },
        "id": "n3s7JyBOsm7L",
        "outputId": "34be7dd3-9c72-4655-b62d-d64b9ba5c39a"
      },
      "outputs": [
        {
          "output_type": "stream",
          "name": "stdout",
          "text": [
            "Iniciando respaldo de datos de Moodle...\n",
            "Creando archivo comprimido: respaldo_moodle_2025-05-23_20-09-40.zip\n",
            "Procesando datos...\n",
            "Procesando datos...\n",
            "Procesando datos...\n",
            "Respaldo finalizado: respaldo_moodle_2025-05-23_20-09-40.zip (simulado)\n",
            "\n"
          ]
        }
      ],
      "source": [
        "import os\n",
        "import datetime\n",
        "\n",
        "def simular_respaldo():\n",
        "    fecha = datetime.datetime.now().strftime(\"%Y-%m-%d_%H-%M-%S\")\n",
        "    nombre_archivo = f\"respaldo_moodle_{fecha}.zip\"\n",
        "\n",
        "    print(f\"Iniciando respaldo de datos de Moodle...\")\n",
        "    print(f\"Creando archivo comprimido: {nombre_archivo}\")\n",
        "\n",
        "    # Simulación de proceso\n",
        "    for i in range(3):\n",
        "        print(\"Procesando datos...\")\n",
        "\n",
        "    print(f\"Respaldo finalizado: {nombre_archivo} (simulado)\\n\")\n",
        "\n",
        "if __name__ == \"__main__\":\n",
        "    simular_respaldo()\n"
      ]
    },
    {
      "cell_type": "code",
      "source": [
        "import time\n",
        "\n",
        "servicios = [\n",
        "    {\"nombre\": \"Correo Institucional\", \"tiempo\": 2},\n",
        "    {\"nombre\": \"Plataforma Moodle\", \"tiempo\": 3},\n",
        "    {\"nombre\": \"Sistema de Pagos y Matrículas\", \"tiempo\": 2.5},\n",
        "    {\"nombre\": \"Biblioteca Digital\", \"tiempo\": 1.5},\n",
        "    {\"nombre\": \"Sistema de Videoconferencia\", \"tiempo\": 2}\n",
        "]\n",
        "\n",
        "def desplegar_servicio(nombre, tiempo_espera):\n",
        "    print(f\"Iniciando despliegue del servicio: {nombre}...\")\n",
        "    time.sleep(tiempo_espera)  # Simula tiempo real de despliegue\n",
        "    print(f\"Servicio '{nombre}' desplegado exitosamente en {tiempo_espera} segundos.\\n\")\n",
        "\n",
        "def main():\n",
        "    print(\"=== Simulación de Despliegue Progresivo de Servicios ===\\n\")\n",
        "    for servicio in servicios:\n",
        "        desplegar_servicio(servicio[\"nombre\"], servicio[\"tiempo\"])\n",
        "    print(\"Todos los servicios han sido desplegados exitosamente.\\n\")\n",
        "\n",
        "if __name__ == \"__main__\":\n",
        "    main()\n"
      ],
      "metadata": {
        "colab": {
          "base_uri": "https://localhost:8080/"
        },
        "id": "d4pfdC-8wmY3",
        "outputId": "3e736412-a0c5-4513-99d3-84fdf7baede6"
      },
      "execution_count": 4,
      "outputs": [
        {
          "output_type": "stream",
          "name": "stdout",
          "text": [
            "=== Simulación de Despliegue Progresivo de Servicios ===\n",
            "\n",
            "Iniciando despliegue del servicio: Correo Institucional...\n",
            "Servicio 'Correo Institucional' desplegado exitosamente en 2 segundos.\n",
            "\n",
            "Iniciando despliegue del servicio: Plataforma Moodle...\n",
            "Servicio 'Plataforma Moodle' desplegado exitosamente en 3 segundos.\n",
            "\n",
            "Iniciando despliegue del servicio: Sistema de Pagos y Matrículas...\n",
            "Servicio 'Sistema de Pagos y Matrículas' desplegado exitosamente en 2.5 segundos.\n",
            "\n",
            "Iniciando despliegue del servicio: Biblioteca Digital...\n",
            "Servicio 'Biblioteca Digital' desplegado exitosamente en 1.5 segundos.\n",
            "\n",
            "Iniciando despliegue del servicio: Sistema de Videoconferencia...\n",
            "Servicio 'Sistema de Videoconferencia' desplegado exitosamente en 2 segundos.\n",
            "\n",
            "Todos los servicios han sido desplegados exitosamente.\n",
            "\n"
          ]
        }
      ]
    }
  ]
}