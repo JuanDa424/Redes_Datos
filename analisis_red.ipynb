{
  "nbformat": 4,
  "nbformat_minor": 0,
  "metadata": {
    "colab": {
      "provenance": []
    },
    "kernelspec": {
      "name": "python3",
      "display_name": "Python 3"
    },
    "language_info": {
      "name": "python"
    }
  },
  "cells": [
    {
      "cell_type": "code",
      "execution_count": 11,
      "metadata": {
        "id": "tmUvoaafZwly",
        "colab": {
          "base_uri": "https://localhost:8080/",
          "height": 0
        },
        "outputId": "1b9ec8ed-320f-49b3-90c8-d34050fd0deb"
      },
      "outputs": [
        {
          "output_type": "stream",
          "name": "stdout",
          "text": [
            "Ingresa la IP o servidor que quieras ver si está activo: 8.8.8.8\n",
            "8.8.8.8 no responde\n"
          ]
        }
      ],
      "source": [
        "import os\n",
        "\n",
        "def ping_host(host):\n",
        "    response = os.system(f\"ping -c 1 {host}\")\n",
        "    if response == 0:\n",
        "        print(f\"{host} está activo\")\n",
        "    else:\n",
        "        print(f\"{host} no responde\")\n",
        "\n",
        "a = input('Ingresa la IP o servidor que quieras ver si está activo: ')\n",
        "ping_host(a)"
      ]
    },
    {
      "cell_type": "code",
      "source": [
        "import socket\n",
        "import requests\n",
        "\n",
        "# IP local\n",
        "ip_local = socket.gethostbyname(socket.gethostname())\n",
        "print(\"IP local:\", ip_local)\n",
        "\n",
        "# IP pública\n",
        "ip_publica = requests.get(\"https://api.ipify.org\").text\n",
        "print(\"IP pública:\", ip_publica)"
      ],
      "metadata": {
        "colab": {
          "base_uri": "https://localhost:8080/",
          "height": 0
        },
        "id": "S1v13vmLmgd9",
        "outputId": "a05b4c76-4827-477e-88bf-ad5f7caa88d9"
      },
      "execution_count": 3,
      "outputs": [
        {
          "output_type": "stream",
          "name": "stdout",
          "text": [
            "IP local: 172.28.0.12\n",
            "IP pública: 35.229.201.207\n"
          ]
        }
      ]
    },
    {
      "cell_type": "code",
      "source": [
        "import socket\n",
        "\n",
        "def escanear_puertos(\n",
        "    host: str,\n",
        "    puertos: list = None,\n",
        "    timeout: float = 1.0,\n",
        "    verbose: bool = True\n",
        "):\n",
        "    if puertos is None:\n",
        "        puertos = [22, 53, 80, 443, 3306, 5000, 8080]\n",
        "\n",
        "    print(f\"\\nEscaneando host: {host}\")\n",
        "    print(f\"Timeout: {timeout}s\")\n",
        "    print(f\"Puertos: {puertos}\\n\")\n",
        "\n",
        "    for port in puertos:\n",
        "        sock = socket.socket(socket.AF_INET, socket.SOCK_STREAM)\n",
        "        sock.settimeout(timeout)\n",
        "        resultado = sock.connect_ex((host, port))\n",
        "        if resultado == 0:\n",
        "            print(f\"Puerto {port} abierto\")\n",
        "        elif verbose:\n",
        "            print(f\"Puerto {port} cerrado o sin respuesta\")\n",
        "        sock.close()\n",
        "\n",
        "a = input('Ingresa la IP o servidor que quieras escanear: ')\n",
        "escanear_puertos(a)"
      ],
      "metadata": {
        "colab": {
          "base_uri": "https://localhost:8080/",
          "height": 0
        },
        "id": "_pXadlWYmgZm",
        "outputId": "9b2412b8-108c-4a9c-f5b5-8079b1311e8e"
      },
      "execution_count": 10,
      "outputs": [
        {
          "output_type": "stream",
          "name": "stdout",
          "text": [
            "Ingresa la IP o servidor que quieras escanear: 8.8.8.8\n",
            "\n",
            "Escaneando host: 8.8.8.8\n",
            "Timeout: 1.0s\n",
            "Puertos: [22, 53, 80, 443, 3306, 5000, 8080]\n",
            "\n",
            "Puerto 22 cerrado o sin respuesta\n",
            "Puerto 53 abierto\n",
            "Puerto 80 cerrado o sin respuesta\n",
            "Puerto 443 abierto\n",
            "Puerto 3306 cerrado o sin respuesta\n",
            "Puerto 5000 cerrado o sin respuesta\n",
            "Puerto 8080 cerrado o sin respuesta\n"
          ]
        }
      ]
    },
    {
      "cell_type": "code",
      "source": [
        "import random\n",
        "import time\n",
        "\n",
        "def monitorear_servicio(servicio=\"Moodle\"):\n",
        "    print(f\"Iniciando monitoreo simulado del servicio: {servicio}\")\n",
        "\n",
        "    uso_cpu = round(random.uniform(5.0, 50.0), 2)\n",
        "    uso_memoria = round(random.uniform(200.0, 1500.0), 2)  # en MB\n",
        "    latencia = round(random.uniform(20, 120), 2)  # en ms\n",
        "\n",
        "    print(f\"Uso de CPU: {uso_cpu}%\")\n",
        "    print(f\"Uso de Memoria: {uso_memoria} MB\")\n",
        "    print(f\"Latencia: {latencia} ms\")\n",
        "\n",
        "    if uso_cpu > 40 or latencia > 100:\n",
        "        print(\"Alerta: posible sobrecarga detectada.\")\n",
        "    else:\n",
        "        print(\"Servicio dentro de parámetros normales.\\n\")\n",
        "\n",
        "if __name__ == \"__main__\":\n",
        "    monitorear_servicio()\n"
      ],
      "metadata": {
        "colab": {
          "base_uri": "https://localhost:8080/",
          "height": 0
        },
        "id": "AXqeX1g1mgWF",
        "outputId": "6c4dd407-11d7-45b7-9112-406a4e32acb7"
      },
      "execution_count": 9,
      "outputs": [
        {
          "output_type": "stream",
          "name": "stdout",
          "text": [
            "Iniciando monitoreo simulado del servicio: Moodle\n",
            "Uso de CPU: 49.54%\n",
            "Uso de Memoria: 299.24 MB\n",
            "Latencia: 47.89 ms\n",
            "Alerta: posible sobrecarga detectada.\n"
          ]
        }
      ]
    }
  ]
}